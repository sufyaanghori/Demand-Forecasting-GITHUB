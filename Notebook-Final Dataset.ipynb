{
 "cells": [
  {
   "cell_type": "code",
   "execution_count": 1,
   "metadata": {},
   "outputs": [],
   "source": [
    "# importing libraries\n",
    "import pandas as pd\n",
    "import numpy as np\n",
    "import matplotlib.pyplot as plt"
   ]
  },
  {
   "cell_type": "code",
   "execution_count": 76,
   "metadata": {},
   "outputs": [
    {
     "name": "stderr",
     "output_type": "stream",
     "text": [
      "C:\\Users\\sufya\\AppData\\Local\\Temp\\ipykernel_18208\\2653851893.py:1: DtypeWarning: Columns (5,8) have mixed types. Specify dtype option on import or set low_memory=False.\n",
      "  dataset = pd.read_csv('C:\\\\Users\\\\sufya\\\\OneDrive\\\\Desktop\\\\Demand Forecasting\\\\final_dataset.csv')\n"
     ]
    },
    {
     "data": {
      "text/html": [
       "<div>\n",
       "<style scoped>\n",
       "    .dataframe tbody tr th:only-of-type {\n",
       "        vertical-align: middle;\n",
       "    }\n",
       "\n",
       "    .dataframe tbody tr th {\n",
       "        vertical-align: top;\n",
       "    }\n",
       "\n",
       "    .dataframe thead th {\n",
       "        text-align: right;\n",
       "    }\n",
       "</style>\n",
       "<table border=\"1\" class=\"dataframe\">\n",
       "  <thead>\n",
       "    <tr style=\"text-align: right;\">\n",
       "      <th></th>\n",
       "      <th>order_item_id</th>\n",
       "      <th>product_id</th>\n",
       "      <th>customer_unique_id</th>\n",
       "      <th>Order ID</th>\n",
       "      <th>Order Date</th>\n",
       "      <th>CustomerName</th>\n",
       "      <th>City</th>\n",
       "      <th>Category</th>\n",
       "      <th>Sub-Category</th>\n",
       "      <th>Quantity</th>\n",
       "    </tr>\n",
       "  </thead>\n",
       "  <tbody>\n",
       "    <tr>\n",
       "      <th>0</th>\n",
       "      <td>1.0</td>\n",
       "      <td>87285b34884572647811a353c7ac498a</td>\n",
       "      <td>7c396fd4830fd04220f754e42b4e5bff</td>\n",
       "      <td>e481f51cbdc54678b7cc49136f2d6af7</td>\n",
       "      <td>02-10-2017</td>\n",
       "      <td>NaN</td>\n",
       "      <td>sao paulo</td>\n",
       "      <td>housewares</td>\n",
       "      <td>NaN</td>\n",
       "      <td>1.0</td>\n",
       "    </tr>\n",
       "    <tr>\n",
       "      <th>1</th>\n",
       "      <td>1.0</td>\n",
       "      <td>87285b34884572647811a353c7ac498a</td>\n",
       "      <td>3a51803cc0d012c3b5dc8b7528cb05f7</td>\n",
       "      <td>128e10d95713541c87cd1a2e48201934</td>\n",
       "      <td>15-08-2017</td>\n",
       "      <td>NaN</td>\n",
       "      <td>sao paulo</td>\n",
       "      <td>housewares</td>\n",
       "      <td>NaN</td>\n",
       "      <td>1.0</td>\n",
       "    </tr>\n",
       "    <tr>\n",
       "      <th>2</th>\n",
       "      <td>1.0</td>\n",
       "      <td>87285b34884572647811a353c7ac498a</td>\n",
       "      <td>ef0996a1a279c26e7ecbd737be23d235</td>\n",
       "      <td>0e7e841ddf8f8f2de2bad69267ecfbcf</td>\n",
       "      <td>02-08-2017</td>\n",
       "      <td>NaN</td>\n",
       "      <td>sao paulo</td>\n",
       "      <td>housewares</td>\n",
       "      <td>NaN</td>\n",
       "      <td>1.0</td>\n",
       "    </tr>\n",
       "    <tr>\n",
       "      <th>3</th>\n",
       "      <td>1.0</td>\n",
       "      <td>87285b34884572647811a353c7ac498a</td>\n",
       "      <td>e781fdcc107d13d865fc7698711cc572</td>\n",
       "      <td>bfc39df4f36c3693ff3b63fcbea9e90a</td>\n",
       "      <td>23-10-2017</td>\n",
       "      <td>NaN</td>\n",
       "      <td>florianopolis</td>\n",
       "      <td>housewares</td>\n",
       "      <td>NaN</td>\n",
       "      <td>1.0</td>\n",
       "    </tr>\n",
       "    <tr>\n",
       "      <th>4</th>\n",
       "      <td>1.0</td>\n",
       "      <td>be021417a6acb56b9b50d3fd2714baa8</td>\n",
       "      <td>3e4fd73f1e86b135b9b121d6abbe9597</td>\n",
       "      <td>6ea2f835b4556291ffdc53fa0b3b95e8</td>\n",
       "      <td>24-11-2017</td>\n",
       "      <td>NaN</td>\n",
       "      <td>presidente venceslau</td>\n",
       "      <td>housewares</td>\n",
       "      <td>NaN</td>\n",
       "      <td>1.0</td>\n",
       "    </tr>\n",
       "  </tbody>\n",
       "</table>\n",
       "</div>"
      ],
      "text/plain": [
       "   order_item_id                        product_id  \\\n",
       "0            1.0  87285b34884572647811a353c7ac498a   \n",
       "1            1.0  87285b34884572647811a353c7ac498a   \n",
       "2            1.0  87285b34884572647811a353c7ac498a   \n",
       "3            1.0  87285b34884572647811a353c7ac498a   \n",
       "4            1.0  be021417a6acb56b9b50d3fd2714baa8   \n",
       "\n",
       "                 customer_unique_id                          Order ID  \\\n",
       "0  7c396fd4830fd04220f754e42b4e5bff  e481f51cbdc54678b7cc49136f2d6af7   \n",
       "1  3a51803cc0d012c3b5dc8b7528cb05f7  128e10d95713541c87cd1a2e48201934   \n",
       "2  ef0996a1a279c26e7ecbd737be23d235  0e7e841ddf8f8f2de2bad69267ecfbcf   \n",
       "3  e781fdcc107d13d865fc7698711cc572  bfc39df4f36c3693ff3b63fcbea9e90a   \n",
       "4  3e4fd73f1e86b135b9b121d6abbe9597  6ea2f835b4556291ffdc53fa0b3b95e8   \n",
       "\n",
       "   Order Date CustomerName                  City    Category Sub-Category  \\\n",
       "0  02-10-2017          NaN             sao paulo  housewares          NaN   \n",
       "1  15-08-2017          NaN             sao paulo  housewares          NaN   \n",
       "2  02-08-2017          NaN             sao paulo  housewares          NaN   \n",
       "3  23-10-2017          NaN         florianopolis  housewares          NaN   \n",
       "4  24-11-2017          NaN  presidente venceslau  housewares          NaN   \n",
       "\n",
       "   Quantity  \n",
       "0       1.0  \n",
       "1       1.0  \n",
       "2       1.0  \n",
       "3       1.0  \n",
       "4       1.0  "
      ]
     },
     "execution_count": 76,
     "metadata": {},
     "output_type": "execute_result"
    }
   ],
   "source": [
    "dataset = pd.read_csv('C:\\\\Users\\\\sufya\\\\OneDrive\\\\Desktop\\\\Demand Forecasting\\\\final_dataset.csv')\n",
    "dataset.head()"
   ]
  },
  {
   "cell_type": "code",
   "execution_count": 52,
   "metadata": {},
   "outputs": [
    {
     "data": {
      "text/html": [
       "<div>\n",
       "<style scoped>\n",
       "    .dataframe tbody tr th:only-of-type {\n",
       "        vertical-align: middle;\n",
       "    }\n",
       "\n",
       "    .dataframe tbody tr th {\n",
       "        vertical-align: top;\n",
       "    }\n",
       "\n",
       "    .dataframe thead th {\n",
       "        text-align: right;\n",
       "    }\n",
       "</style>\n",
       "<table border=\"1\" class=\"dataframe\">\n",
       "  <thead>\n",
       "    <tr style=\"text-align: right;\">\n",
       "      <th></th>\n",
       "      <th>order_item_id</th>\n",
       "      <th>product_id</th>\n",
       "      <th>customer_unique_id</th>\n",
       "      <th>Order ID</th>\n",
       "      <th>Order Date</th>\n",
       "      <th>CustomerName</th>\n",
       "      <th>City</th>\n",
       "      <th>Category</th>\n",
       "      <th>Sub-Category</th>\n",
       "      <th>Quantity</th>\n",
       "    </tr>\n",
       "  </thead>\n",
       "  <tbody>\n",
       "    <tr>\n",
       "      <th>112518</th>\n",
       "      <td>NaN</td>\n",
       "      <td>Phones</td>\n",
       "      <td>NaN</td>\n",
       "      <td>B-26099</td>\n",
       "      <td>2019-03-30</td>\n",
       "      <td>Bhishm</td>\n",
       "      <td>Mumbai</td>\n",
       "      <td>Electronics</td>\n",
       "      <td>Phones</td>\n",
       "      <td>5.0</td>\n",
       "    </tr>\n",
       "    <tr>\n",
       "      <th>112519</th>\n",
       "      <td>NaN</td>\n",
       "      <td>Trousers</td>\n",
       "      <td>NaN</td>\n",
       "      <td>B-26099</td>\n",
       "      <td>2019-03-30</td>\n",
       "      <td>Bhishm</td>\n",
       "      <td>Mumbai</td>\n",
       "      <td>Clothing</td>\n",
       "      <td>Trousers</td>\n",
       "      <td>5.0</td>\n",
       "    </tr>\n",
       "    <tr>\n",
       "      <th>112520</th>\n",
       "      <td>NaN</td>\n",
       "      <td>Chairs</td>\n",
       "      <td>NaN</td>\n",
       "      <td>B-26100</td>\n",
       "      <td>2019-03-31</td>\n",
       "      <td>Hitika</td>\n",
       "      <td>Indore</td>\n",
       "      <td>Furniture</td>\n",
       "      <td>Chairs</td>\n",
       "      <td>2.0</td>\n",
       "    </tr>\n",
       "    <tr>\n",
       "      <th>112521</th>\n",
       "      <td>NaN</td>\n",
       "      <td>T-shirt</td>\n",
       "      <td>NaN</td>\n",
       "      <td>B-26100</td>\n",
       "      <td>2019-03-31</td>\n",
       "      <td>Hitika</td>\n",
       "      <td>Indore</td>\n",
       "      <td>Clothing</td>\n",
       "      <td>T-shirt</td>\n",
       "      <td>2.0</td>\n",
       "    </tr>\n",
       "    <tr>\n",
       "      <th>112522</th>\n",
       "      <td>NaN</td>\n",
       "      <td>Shirt</td>\n",
       "      <td>NaN</td>\n",
       "      <td>B-26100</td>\n",
       "      <td>2019-03-31</td>\n",
       "      <td>Hitika</td>\n",
       "      <td>Indore</td>\n",
       "      <td>Clothing</td>\n",
       "      <td>Shirt</td>\n",
       "      <td>2.0</td>\n",
       "    </tr>\n",
       "  </tbody>\n",
       "</table>\n",
       "</div>"
      ],
      "text/plain": [
       "        order_item_id product_id customer_unique_id Order ID Order Date  \\\n",
       "112518            NaN     Phones                NaN  B-26099 2019-03-30   \n",
       "112519            NaN   Trousers                NaN  B-26099 2019-03-30   \n",
       "112520            NaN     Chairs                NaN  B-26100 2019-03-31   \n",
       "112521            NaN    T-shirt                NaN  B-26100 2019-03-31   \n",
       "112522            NaN      Shirt                NaN  B-26100 2019-03-31   \n",
       "\n",
       "       CustomerName    City     Category Sub-Category  Quantity  \n",
       "112518       Bhishm  Mumbai  Electronics       Phones       5.0  \n",
       "112519       Bhishm  Mumbai     Clothing     Trousers       5.0  \n",
       "112520       Hitika  Indore    Furniture       Chairs       2.0  \n",
       "112521       Hitika  Indore     Clothing      T-shirt       2.0  \n",
       "112522       Hitika  Indore     Clothing        Shirt       2.0  "
      ]
     },
     "execution_count": 52,
     "metadata": {},
     "output_type": "execute_result"
    }
   ],
   "source": [
    "dataset.tail()"
   ]
  },
  {
   "cell_type": "code",
   "execution_count": 77,
   "metadata": {},
   "outputs": [
    {
     "name": "stdout",
     "output_type": "stream",
     "text": [
      "order_item_id           1500\n",
      "product_id              1500\n",
      "customer_unique_id      1500\n",
      "Order ID                   0\n",
      "Order Date                 0\n",
      "CustomerName          111023\n",
      "City                       0\n",
      "Category                   0\n",
      "Sub-Category          111023\n",
      "Quantity                   0\n",
      "dtype: int64\n"
     ]
    }
   ],
   "source": [
    "# the number of null values in each column\n",
    "print(dataset.isnull().sum())"
   ]
  },
  {
   "cell_type": "code",
   "execution_count": 73,
   "metadata": {},
   "outputs": [
    {
     "name": "stdout",
     "output_type": "stream",
     "text": [
      "32345\n"
     ]
    }
   ],
   "source": [
    "# number of unique values in product_id column\n",
    "print(dataset['product_id'].nunique())"
   ]
  },
  {
   "cell_type": "code",
   "execution_count": 82,
   "metadata": {},
   "outputs": [
    {
     "data": {
      "text/plain": [
       "order_item_id                float64\n",
       "product_id                  category\n",
       "customer_unique_id            object\n",
       "Order ID                      object\n",
       "Order Date            datetime64[ns]\n",
       "CustomerName                  object\n",
       "City                          object\n",
       "Category                      object\n",
       "Sub-Category                  object\n",
       "Quantity                     float64\n",
       "dtype: object"
      ]
     },
     "execution_count": 82,
     "metadata": {},
     "output_type": "execute_result"
    }
   ],
   "source": [
    "dataset.dtypes"
   ]
  },
  {
   "cell_type": "code",
   "execution_count": 81,
   "metadata": {},
   "outputs": [],
   "source": [
    "# categorize the product_id column\n",
    "dataset['product_id'] = dataset['product_id'].astype('category')"
   ]
  },
  {
   "cell_type": "code",
   "execution_count": 80,
   "metadata": {},
   "outputs": [
    {
     "name": "stderr",
     "output_type": "stream",
     "text": [
      "C:\\Users\\sufya\\AppData\\Local\\Temp\\ipykernel_18208\\1058329609.py:1: UserWarning: Parsing dates in DD/MM/YYYY format when dayfirst=False (the default) was specified. This may lead to inconsistently parsed dates! Specify a format to ensure consistent parsing.\n",
      "  dataset['Order Date'] = pd.to_datetime(dataset['Order Date'], dayfirst=False)\n"
     ]
    }
   ],
   "source": [
    "dataset['Order Date'] = pd.to_datetime(dataset['Order Date'], dayfirst=False)"
   ]
  },
  {
   "cell_type": "code",
   "execution_count": 83,
   "metadata": {},
   "outputs": [
    {
     "name": "stdout",
     "output_type": "stream",
     "text": [
      "Min date:  2016-02-10 00:00:00\n",
      "Max date:  2019-12-03 00:00:00\n"
     ]
    }
   ],
   "source": [
    "# find the range of dates\n",
    "print('Min date: ', dataset['Order Date'].min())\n",
    "print('Max date: ', dataset['Order Date'].max())"
   ]
  },
  {
   "cell_type": "code",
   "execution_count": 79,
   "metadata": {},
   "outputs": [],
   "source": [
    "# where there is no value in product_id, add the value of sub-category from the same row\n",
    "dataset['product_id'] = dataset['product_id'].fillna(dataset['Sub-Category'])\n"
   ]
  },
  {
   "cell_type": "markdown",
   "metadata": {},
   "source": [
    "# MODEL"
   ]
  },
  {
   "cell_type": "code",
   "execution_count": null,
   "metadata": {},
   "outputs": [],
   "source": [
    "# using the sales on the previous dates, now use xgbregressor to predict the sales on the next month of Decembe and also next year 2020\n",
    "from xgboost import XGBRegressor\n",
    "from sklearn.model_selection import train_test_split\n",
    "from sklearn.metrics import mean_squared_error\n",
    "\n",
    "# there is no column of sales in the dataset, each row represents a sale, and the quantity of the product sold is in the column 'Quantity'\n",
    "# using this information, we have to predict the sales of the next month \n",
    "# we will use the 'Order Date' column to extract the month and year of the sale\n",
    "# we will use the 'Quantity' column to get the sales of the product"
   ]
  },
  {
   "cell_type": "code",
   "execution_count": 65,
   "metadata": {},
   "outputs": [],
   "source": [
    "import pandas as pd\n",
    "import numpy as np\n",
    "from sklearn.model_selection import train_test_split\n",
    "from xgboost import XGBRegressor, DMatrix\n",
    "from sklearn.metrics import mean_squared_error\n",
    "from datetime import datetime, timedelta\n",
    "\n",
    "# Load the dataset\n",
    "# dataset = pd.read_csv(\"sales_data.csv\")  # Make sure to replace \"sales_data.csv\" with the actual filename\n",
    "\n",
    "# Convert the Order Date column to datetime\n",
    "dataset['Order Date'] = pd.to_datetime(dataset['Order Date'], format='%m-%d-%Y')\n",
    "\n",
    "# Filter data for the next month\n",
    "current_date = datetime.now()\n",
    "next_month = current_date + timedelta(days=30)\n",
    "next_month_data = dataset[dataset['Order Date'] >= current_date]\n",
    "next_month_data = next_month_data[next_month_data['Order Date'] < next_month]\n",
    "\n",
    "# Group the filtered data by product_id and sum the quantities\n",
    "grouped_data = next_month_data.groupby('product_id')['Quantity'].sum().reset_index()\n",
    "\n",
    "# Convert categorical 'product_id' to numerical labels\n",
    "product_id_mapping = {product_id: i for i, product_id in enumerate(grouped_data['product_id'].unique())}\n",
    "grouped_data['product_id'] = grouped_data['product_id'].map(product_id_mapping)\n",
    "\n",
    "# Split data into train and test sets (since we are predicting for the next month, there is no need for splitting)\n",
    "X_train = grouped_data[['product_id']]\n",
    "y_train = grouped_data['Quantity']\n"
   ]
  },
  {
   "cell_type": "code",
   "execution_count": 88,
   "metadata": {},
   "outputs": [],
   "source": [
    "import pandas as pd\n",
    "import numpy as np\n",
    "from sklearn.model_selection import train_test_split\n",
    "from xgboost import XGBRegressor\n",
    "from sklearn.metrics import mean_squared_error\n",
    "from datetime import datetime, timedelta\n",
    "\n",
    "# Load the dataset\n",
    "# data = pd.read_csv(\"sales_data.csv\")  # Make sure to replace \"sales_data.csv\" with the actual filename\n",
    "\n",
    "# Convert the Order Date column to datetime\n",
    "dataset['Order Date'] = pd.to_datetime(dataset['Order Date'], format='%m-%d-%Y')\n",
    "\n",
    "# Filter data for the next month\n",
    "current_date = dataset['Order Date'].max()\n",
    "next_month = current_date + timedelta(days=30)\n",
    "# dataset does not have next month data, so we will use the last 3 months data\n",
    "next_month_data = dataset[dataset['Order Date'] >= current_date - timedelta(days=90)]\n",
    "next_month_data = next_month_data[next_month_data['Order Date'] < current_date]\n",
    "\n",
    "# Group the filtered data by product_id and sum the quantities\n",
    "grouped_data = next_month_data.groupby('product_id')['Quantity'].sum().reset_index()\n",
    "\n",
    "# One-hot encode the 'product_id' column\n",
    "grouped_data = pd.get_dummies(grouped_data, columns=['product_id'], prefix='product')\n",
    "\n",
    "# Split data into train and test sets (since we are predicting for the next month, there is no need for splitting)\n",
    "X_train = grouped_data.drop(columns=['Quantity'])\n",
    "y_train = grouped_data['Quantity']"
   ]
  },
  {
   "cell_type": "code",
   "execution_count": 89,
   "metadata": {},
   "outputs": [
    {
     "name": "stdout",
     "output_type": "stream",
     "text": [
      "2019-12-03 00:00:00\n"
     ]
    }
   ],
   "source": [
    "print(current_date)"
   ]
  },
  {
   "cell_type": "code",
   "execution_count": 90,
   "metadata": {},
   "outputs": [
    {
     "data": {
      "text/html": [
       "<style>#sk-container-id-3 {color: black;background-color: white;}#sk-container-id-3 pre{padding: 0;}#sk-container-id-3 div.sk-toggleable {background-color: white;}#sk-container-id-3 label.sk-toggleable__label {cursor: pointer;display: block;width: 100%;margin-bottom: 0;padding: 0.3em;box-sizing: border-box;text-align: center;}#sk-container-id-3 label.sk-toggleable__label-arrow:before {content: \"▸\";float: left;margin-right: 0.25em;color: #696969;}#sk-container-id-3 label.sk-toggleable__label-arrow:hover:before {color: black;}#sk-container-id-3 div.sk-estimator:hover label.sk-toggleable__label-arrow:before {color: black;}#sk-container-id-3 div.sk-toggleable__content {max-height: 0;max-width: 0;overflow: hidden;text-align: left;background-color: #f0f8ff;}#sk-container-id-3 div.sk-toggleable__content pre {margin: 0.2em;color: black;border-radius: 0.25em;background-color: #f0f8ff;}#sk-container-id-3 input.sk-toggleable__control:checked~div.sk-toggleable__content {max-height: 200px;max-width: 100%;overflow: auto;}#sk-container-id-3 input.sk-toggleable__control:checked~label.sk-toggleable__label-arrow:before {content: \"▾\";}#sk-container-id-3 div.sk-estimator input.sk-toggleable__control:checked~label.sk-toggleable__label {background-color: #d4ebff;}#sk-container-id-3 div.sk-label input.sk-toggleable__control:checked~label.sk-toggleable__label {background-color: #d4ebff;}#sk-container-id-3 input.sk-hidden--visually {border: 0;clip: rect(1px 1px 1px 1px);clip: rect(1px, 1px, 1px, 1px);height: 1px;margin: -1px;overflow: hidden;padding: 0;position: absolute;width: 1px;}#sk-container-id-3 div.sk-estimator {font-family: monospace;background-color: #f0f8ff;border: 1px dotted black;border-radius: 0.25em;box-sizing: border-box;margin-bottom: 0.5em;}#sk-container-id-3 div.sk-estimator:hover {background-color: #d4ebff;}#sk-container-id-3 div.sk-parallel-item::after {content: \"\";width: 100%;border-bottom: 1px solid gray;flex-grow: 1;}#sk-container-id-3 div.sk-label:hover label.sk-toggleable__label {background-color: #d4ebff;}#sk-container-id-3 div.sk-serial::before {content: \"\";position: absolute;border-left: 1px solid gray;box-sizing: border-box;top: 0;bottom: 0;left: 50%;z-index: 0;}#sk-container-id-3 div.sk-serial {display: flex;flex-direction: column;align-items: center;background-color: white;padding-right: 0.2em;padding-left: 0.2em;position: relative;}#sk-container-id-3 div.sk-item {position: relative;z-index: 1;}#sk-container-id-3 div.sk-parallel {display: flex;align-items: stretch;justify-content: center;background-color: white;position: relative;}#sk-container-id-3 div.sk-item::before, #sk-container-id-3 div.sk-parallel-item::before {content: \"\";position: absolute;border-left: 1px solid gray;box-sizing: border-box;top: 0;bottom: 0;left: 50%;z-index: -1;}#sk-container-id-3 div.sk-parallel-item {display: flex;flex-direction: column;z-index: 1;position: relative;background-color: white;}#sk-container-id-3 div.sk-parallel-item:first-child::after {align-self: flex-end;width: 50%;}#sk-container-id-3 div.sk-parallel-item:last-child::after {align-self: flex-start;width: 50%;}#sk-container-id-3 div.sk-parallel-item:only-child::after {width: 0;}#sk-container-id-3 div.sk-dashed-wrapped {border: 1px dashed gray;margin: 0 0.4em 0.5em 0.4em;box-sizing: border-box;padding-bottom: 0.4em;background-color: white;}#sk-container-id-3 div.sk-label label {font-family: monospace;font-weight: bold;display: inline-block;line-height: 1.2em;}#sk-container-id-3 div.sk-label-container {text-align: center;}#sk-container-id-3 div.sk-container {/* jupyter's `normalize.less` sets `[hidden] { display: none; }` but bootstrap.min.css set `[hidden] { display: none !important; }` so we also need the `!important` here to be able to override the default hidden behavior on the sphinx rendered scikit-learn.org. See: https://github.com/scikit-learn/scikit-learn/issues/21755 */display: inline-block !important;position: relative;}#sk-container-id-3 div.sk-text-repr-fallback {display: none;}</style><div id=\"sk-container-id-3\" class=\"sk-top-container\"><div class=\"sk-text-repr-fallback\"><pre>XGBRegressor(base_score=None, booster=None, callbacks=None,\n",
       "             colsample_bylevel=None, colsample_bynode=None,\n",
       "             colsample_bytree=None, device=None, early_stopping_rounds=None,\n",
       "             enable_categorical=False, eval_metric=None, feature_types=None,\n",
       "             gamma=None, grow_policy=None, importance_type=None,\n",
       "             interaction_constraints=None, learning_rate=None, max_bin=None,\n",
       "             max_cat_threshold=None, max_cat_to_onehot=None,\n",
       "             max_delta_step=None, max_depth=None, max_leaves=None,\n",
       "             min_child_weight=None, missing=nan, monotone_constraints=None,\n",
       "             multi_strategy=None, n_estimators=None, n_jobs=None,\n",
       "             num_parallel_tree=None, random_state=None, ...)</pre><b>In a Jupyter environment, please rerun this cell to show the HTML representation or trust the notebook. <br />On GitHub, the HTML representation is unable to render, please try loading this page with nbviewer.org.</b></div><div class=\"sk-container\" hidden><div class=\"sk-item\"><div class=\"sk-estimator sk-toggleable\"><input class=\"sk-toggleable__control sk-hidden--visually\" id=\"sk-estimator-id-3\" type=\"checkbox\" checked><label for=\"sk-estimator-id-3\" class=\"sk-toggleable__label sk-toggleable__label-arrow\">XGBRegressor</label><div class=\"sk-toggleable__content\"><pre>XGBRegressor(base_score=None, booster=None, callbacks=None,\n",
       "             colsample_bylevel=None, colsample_bynode=None,\n",
       "             colsample_bytree=None, device=None, early_stopping_rounds=None,\n",
       "             enable_categorical=False, eval_metric=None, feature_types=None,\n",
       "             gamma=None, grow_policy=None, importance_type=None,\n",
       "             interaction_constraints=None, learning_rate=None, max_bin=None,\n",
       "             max_cat_threshold=None, max_cat_to_onehot=None,\n",
       "             max_delta_step=None, max_depth=None, max_leaves=None,\n",
       "             min_child_weight=None, missing=nan, monotone_constraints=None,\n",
       "             multi_strategy=None, n_estimators=None, n_jobs=None,\n",
       "             num_parallel_tree=None, random_state=None, ...)</pre></div></div></div></div></div>"
      ],
      "text/plain": [
       "XGBRegressor(base_score=None, booster=None, callbacks=None,\n",
       "             colsample_bylevel=None, colsample_bynode=None,\n",
       "             colsample_bytree=None, device=None, early_stopping_rounds=None,\n",
       "             enable_categorical=False, eval_metric=None, feature_types=None,\n",
       "             gamma=None, grow_policy=None, importance_type=None,\n",
       "             interaction_constraints=None, learning_rate=None, max_bin=None,\n",
       "             max_cat_threshold=None, max_cat_to_onehot=None,\n",
       "             max_delta_step=None, max_depth=None, max_leaves=None,\n",
       "             min_child_weight=None, missing=nan, monotone_constraints=None,\n",
       "             multi_strategy=None, n_estimators=None, n_jobs=None,\n",
       "             num_parallel_tree=None, random_state=None, ...)"
      ]
     },
     "execution_count": 90,
     "metadata": {},
     "output_type": "execute_result"
    }
   ],
   "source": [
    "# Initialize and train XGBoost model\n",
    "model = XGBRegressor()\n",
    "model.fit(X_train, y_train)"
   ]
  },
  {
   "cell_type": "code",
   "execution_count": 91,
   "metadata": {},
   "outputs": [
    {
     "data": {
      "text/html": [
       "<div>\n",
       "<style scoped>\n",
       "    .dataframe tbody tr th:only-of-type {\n",
       "        vertical-align: middle;\n",
       "    }\n",
       "\n",
       "    .dataframe tbody tr th {\n",
       "        vertical-align: top;\n",
       "    }\n",
       "\n",
       "    .dataframe thead th {\n",
       "        text-align: right;\n",
       "    }\n",
       "</style>\n",
       "<table border=\"1\" class=\"dataframe\">\n",
       "  <thead>\n",
       "    <tr style=\"text-align: right;\">\n",
       "      <th></th>\n",
       "      <th>product_id</th>\n",
       "      <th>predicted_sales</th>\n",
       "    </tr>\n",
       "  </thead>\n",
       "  <tbody>\n",
       "    <tr>\n",
       "      <th>20204</th>\n",
       "      <td>product_Hankerchief</td>\n",
       "      <td>33.989937</td>\n",
       "    </tr>\n",
       "    <tr>\n",
       "      <th>20210</th>\n",
       "      <td>product_Shirt</td>\n",
       "      <td>30.990826</td>\n",
       "    </tr>\n",
       "    <tr>\n",
       "      <th>20212</th>\n",
       "      <td>product_Stole</td>\n",
       "      <td>22.990580</td>\n",
       "    </tr>\n",
       "    <tr>\n",
       "      <th>20207</th>\n",
       "      <td>product_Phones</td>\n",
       "      <td>16.990362</td>\n",
       "    </tr>\n",
       "    <tr>\n",
       "      <th>20200</th>\n",
       "      <td>product_Bookcases</td>\n",
       "      <td>14.989994</td>\n",
       "    </tr>\n",
       "  </tbody>\n",
       "</table>\n",
       "</div>"
      ],
      "text/plain": [
       "                product_id  predicted_sales\n",
       "20204  product_Hankerchief        33.989937\n",
       "20210        product_Shirt        30.990826\n",
       "20212        product_Stole        22.990580\n",
       "20207       product_Phones        16.990362\n",
       "20200    product_Bookcases        14.989994"
      ]
     },
     "execution_count": 91,
     "metadata": {},
     "output_type": "execute_result"
    }
   ],
   "source": [
    "# Make predictions for the next month\n",
    "next_month_product_ids = grouped_data.drop(columns=['Quantity']).columns  # Get the product_id columns from one-hot encoded dataframe\n",
    "next_month_predictions = model.predict(grouped_data.drop(columns=['Quantity']))\n",
    "\n",
    "# Display the predictions\n",
    "predictions_df = pd.DataFrame({'product_id': next_month_product_ids, 'predicted_sales': next_month_predictions})\n",
    "# sort the predictions in descending order\n",
    "predictions_df = predictions_df.sort_values(by='predicted_sales', ascending=False)\n",
    "\n",
    "predictions_df.head()\n"
   ]
  },
  {
   "cell_type": "code",
   "execution_count": 97,
   "metadata": {},
   "outputs": [
    {
     "data": {
      "text/html": [
       "<div>\n",
       "<style scoped>\n",
       "    .dataframe tbody tr th:only-of-type {\n",
       "        vertical-align: middle;\n",
       "    }\n",
       "\n",
       "    .dataframe tbody tr th {\n",
       "        vertical-align: top;\n",
       "    }\n",
       "\n",
       "    .dataframe thead th {\n",
       "        text-align: right;\n",
       "    }\n",
       "</style>\n",
       "<table border=\"1\" class=\"dataframe\">\n",
       "  <thead>\n",
       "    <tr style=\"text-align: right;\">\n",
       "      <th></th>\n",
       "      <th>product_id</th>\n",
       "      <th>predicted_sales</th>\n",
       "    </tr>\n",
       "  </thead>\n",
       "  <tbody>\n",
       "    <tr>\n",
       "      <th>20204</th>\n",
       "      <td>product_Hankerchief</td>\n",
       "      <td>33.989937</td>\n",
       "    </tr>\n",
       "    <tr>\n",
       "      <th>20210</th>\n",
       "      <td>product_Shirt</td>\n",
       "      <td>30.990826</td>\n",
       "    </tr>\n",
       "    <tr>\n",
       "      <th>20212</th>\n",
       "      <td>product_Stole</td>\n",
       "      <td>22.990580</td>\n",
       "    </tr>\n",
       "    <tr>\n",
       "      <th>20207</th>\n",
       "      <td>product_Phones</td>\n",
       "      <td>16.990362</td>\n",
       "    </tr>\n",
       "    <tr>\n",
       "      <th>20200</th>\n",
       "      <td>product_Bookcases</td>\n",
       "      <td>14.989994</td>\n",
       "    </tr>\n",
       "    <tr>\n",
       "      <th>...</th>\n",
       "      <td>...</td>\n",
       "      <td>...</td>\n",
       "    </tr>\n",
       "    <tr>\n",
       "      <th>10777</th>\n",
       "      <td>product_54904bdd42a096ba337670dcc1b68a95</td>\n",
       "      <td>0.000003</td>\n",
       "    </tr>\n",
       "    <tr>\n",
       "      <th>10776</th>\n",
       "      <td>product_548e5bfe28edceab6b51fa707cc9556f</td>\n",
       "      <td>0.000003</td>\n",
       "    </tr>\n",
       "    <tr>\n",
       "      <th>10775</th>\n",
       "      <td>product_548ace38f22cc53db6f049c551d31397</td>\n",
       "      <td>0.000003</td>\n",
       "    </tr>\n",
       "    <tr>\n",
       "      <th>10774</th>\n",
       "      <td>product_5486b0f9faa264ae6cbbd2bf230bbb00</td>\n",
       "      <td>0.000003</td>\n",
       "    </tr>\n",
       "    <tr>\n",
       "      <th>32344</th>\n",
       "      <td>product_fffe9eeff12fcbd74a2f2b007dde0c58</td>\n",
       "      <td>0.000003</td>\n",
       "    </tr>\n",
       "  </tbody>\n",
       "</table>\n",
       "<p>32345 rows × 2 columns</p>\n",
       "</div>"
      ],
      "text/plain": [
       "                                     product_id  predicted_sales\n",
       "20204                       product_Hankerchief        33.989937\n",
       "20210                             product_Shirt        30.990826\n",
       "20212                             product_Stole        22.990580\n",
       "20207                            product_Phones        16.990362\n",
       "20200                         product_Bookcases        14.989994\n",
       "...                                         ...              ...\n",
       "10777  product_54904bdd42a096ba337670dcc1b68a95         0.000003\n",
       "10776  product_548e5bfe28edceab6b51fa707cc9556f         0.000003\n",
       "10775  product_548ace38f22cc53db6f049c551d31397         0.000003\n",
       "10774  product_5486b0f9faa264ae6cbbd2bf230bbb00         0.000003\n",
       "32344  product_fffe9eeff12fcbd74a2f2b007dde0c58         0.000003\n",
       "\n",
       "[32345 rows x 2 columns]"
      ]
     },
     "execution_count": 97,
     "metadata": {},
     "output_type": "execute_result"
    }
   ],
   "source": [
    "predictions_df"
   ]
  },
  {
   "cell_type": "code",
   "execution_count": 96,
   "metadata": {},
   "outputs": [
    {
     "name": "stdout",
     "output_type": "stream",
     "text": [
      "Mean Squared Error: 0.23349321574354606\n",
      "Accuracy: 83.13548589992324\n"
     ]
    }
   ],
   "source": [
    "# evaluate the model\n",
    "actual_sales = y_train\n",
    "predicted_sales = predictions_df['predicted_sales']\n",
    "\n",
    "# Calculate the mean squared error\n",
    "mse = mean_squared_error(actual_sales, predicted_sales)\n",
    "print('Mean Squared Error:', mse)\n",
    "\n",
    "# Calculate the root mean squared error\n",
    "rmse = np.sqrt(mse)\n",
    "# print('Root Mean Squared Error:', rmse)\n",
    "\n",
    "# accuracy of the model\n",
    "accuracy = (rmse / actual_sales.mean())\n",
    "print('Accuracy:', accuracy)"
   ]
  },
  {
   "cell_type": "code",
   "execution_count": null,
   "metadata": {},
   "outputs": [],
   "source": [
    "# now we will match the order of product(highest to lowest) with the actual sales of the product"
   ]
  }
 ],
 "metadata": {
  "kernelspec": {
   "display_name": "Python 3",
   "language": "python",
   "name": "python3"
  },
  "language_info": {
   "codemirror_mode": {
    "name": "ipython",
    "version": 3
   },
   "file_extension": ".py",
   "mimetype": "text/x-python",
   "name": "python",
   "nbconvert_exporter": "python",
   "pygments_lexer": "ipython3",
   "version": "3.10.11"
  }
 },
 "nbformat": 4,
 "nbformat_minor": 2
}
